{
 "cells": [
  {
   "cell_type": "markdown",
   "id": "1fff2287-659c-47fc-9d2c-97671d7fb866",
   "metadata": {},
   "source": [
    "# 線形判別モデル\n",
    "\n",
    "## モデル\n",
    "\n",
    "### 2クラスの場合\n",
    "\n",
    "2クラス$(C_1, C_2)$を識別する線形モデルを考える。\n",
    "\n",
    "特徴量ベクトルを$\\boldsymbol{x}=(x_1, \\cdots, x_d)^\\top$、係数ベクトルを$\\boldsymbol{w}=(w_1, \\cdots, w_d)^\\top$、バイアス項を$w_0$とすれば、\n",
    "\n",
    "$$\n",
    "f(\\boldsymbol{x}) = w_0 + \\boldsymbol{w}^\\top \\boldsymbol{x}\n",
    "$$\n",
    "\n",
    "で表される。\n",
    "\n",
    "識別境界を$f(\\boldsymbol{x})=0$として、$f(\\boldsymbol{x})=0$のときはリジェクトせずに$C_1$とする場合、予測値$\\hat{C}$を出力する識別規則は\n",
    "\n",
    "$$\n",
    "\\begin{cases}\n",
    "C_1 & (f(\\boldsymbol{x}) \\geq 0)\\\\\n",
    "C_2 & (f(\\boldsymbol{x}) < 0)\n",
    "\\end{cases}\n",
    "$$\n",
    "\n",
    "となる。\n",
    "\n",
    "### 多クラスの場合\n",
    "\n",
    "クラス数が$K(>2)$個ある場合にはどうすればよいだろうか。\n",
    "\n",
    "いくつか方法はある（はじパタ 6.1.2などを参照）が、最大識別関数法が現状もっとも良さそう。\n",
    "\n",
    "これは$K$個の線形識別関数$f_j(\\boldsymbol{x}) \\ (j = 1, 2, \\cdots, K)$を用意して、最も出力値が大きいクラスを採用するというもの。\n",
    "\n",
    "$$\n",
    "\\hat{C} = \\arg \\max_j f_j(\\boldsymbol{x})\n",
    "$$\n"
   ]
  },
  {
   "cell_type": "code",
   "execution_count": null,
   "id": "dccfdcf9-3245-443a-99b8-6ddb76bf59db",
   "metadata": {},
   "outputs": [],
   "source": []
  }
 ],
 "metadata": {
  "kernelspec": {
   "display_name": "Python 3 (ipykernel)",
   "language": "python",
   "name": "python3"
  },
  "language_info": {
   "codemirror_mode": {
    "name": "ipython",
    "version": 3
   },
   "file_extension": ".py",
   "mimetype": "text/x-python",
   "name": "python",
   "nbconvert_exporter": "python",
   "pygments_lexer": "ipython3",
   "version": "3.9.13"
  }
 },
 "nbformat": 4,
 "nbformat_minor": 5
}
